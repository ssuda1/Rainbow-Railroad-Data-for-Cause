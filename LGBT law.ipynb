{
 "cells": [
  {
   "cell_type": "code",
   "execution_count": 24,
   "metadata": {
    "collapsed": true
   },
   "outputs": [],
   "source": [
    "import sys\n",
    "import pandas as pd\n",
    "import numpy as np\n",
    "import os\n",
    "#import matplotlib.pyplot as plt\n",
    "#plt.style.use('ggplot')\n",
    "#%matplotlib inline\n",
    "from geopy.geocoders import Nominatim\n",
    "geolocator = Nominatim(scheme='http',timeout=5)"
   ]
  },
  {
   "cell_type": "code",
   "execution_count": 2,
   "metadata": {
    "collapsed": true
   },
   "outputs": [],
   "source": [
    "df = pd.read_csv('/Users/suda77/Desktop/Score - Global LGBTQI laws dataset.csv')"
   ]
  },
  {
   "cell_type": "code",
   "execution_count": null,
   "metadata": {
    "scrolled": false
   },
   "outputs": [],
   "source": [
    "df.info()\n",
    "df.head()\n",
    "#sys.version"
   ]
  },
  {
   "cell_type": "code",
   "execution_count": 4,
   "metadata": {
    "collapsed": true
   },
   "outputs": [],
   "source": [
    "df['Punish']=df.apply(lambda r: (r['Penalising_text_Sexual act']+ r['Penalising_text_Sodomy']+ r['Penalising_text_Against nature']+ r['Penalising_text_Buggery'] +r['Penalising_text_Indecency'])*(1*r['MaxSentences_1Monthto2Years']+ 2*r['MaxSentences_3Yearsto7Years']+ 3*r['MaxSentences_8Yearsto13Years']+ 4*r['MaxSentences_14YearstoLife'] +10*r['MaxSentences_Death']), axis=1)\n",
    "\n",
    "df.iloc[:,20] = df.iloc[:,20].apply(lambda v: 0.5 if v == 0 else 1)\n",
    "df.iloc[:,14] = df.iloc[:,14].apply(lambda v: 1.5 if v == 1 else 0)\n"
   ]
  },
  {
   "cell_type": "code",
   "execution_count": 5,
   "metadata": {
    "collapsed": true
   },
   "outputs": [],
   "source": [
    "df.iloc[:10,:]\n",
    "df['Score'] = df.apply(lambda r: 2*r['Legal_All_genders'] + 1*r['Ageofconsent_Equal'] -1*r['Ageofconsent_Unequal']-1*r['Illegal_Male']-1*r['Illegal_Female']-1*r['Arrests']*r['Punish']*r['PromotionorMorality_Morality_code']-1*r['PromotionorMorality_Penal_code']-1*r['BanonNGOs_Yes']+1*r['NRHISOinclusive_Yes']-1*r['NRHISONo']+5*r['Protection_Constitution']+1*r['Protection_Employment']+1*r['Protection_Other']+1*r['Protection_HateCrime']+1*r['Protection_Incitemenrt']+1*r['Protection_ConversionTherapyBan']+5*r['Relationshiprecognition_Marriage']+2*r['Relationshiprecognition_Civilrecognition']+2*r['Relationshiprecognition_Jointadoption']+2*r['Relationshiprecognition_2ndparentadoption'], axis=1)"
   ]
  },
  {
   "cell_type": "code",
   "execution_count": 6,
   "metadata": {
    "collapsed": true
   },
   "outputs": [],
   "source": [
    "df.loc[df['Country']=='Egypt','Score']= -3\n",
    "df.loc[df['Country']=='Indonesia','Score']= 1\n",
    "df.loc[df['Country']=='Jordan','Score']= 0\n",
    "df.loc[df['Country']=='Qatar','Score']= -16"
   ]
  },
  {
   "cell_type": "code",
   "execution_count": 7,
   "metadata": {},
   "outputs": [],
   "source": [
    "df.iloc[:10,:]\n",
    "df.to_csv('/Users/suda77/Desktop/Score_Global_LGBTQI_laws_adjusted.csv', index=False)"
   ]
  },
  {
   "cell_type": "code",
   "execution_count": 12,
   "metadata": {},
   "outputs": [],
   "source": [
    "df1 = pd.read_csv('/Users/suda77/Desktop/2017_Requests_by_nationality.csv')\n",
    "df2 = pd.read_csv('/Users/suda77/Desktop/2017_travel_complete.csv')"
   ]
  },
  {
   "cell_type": "code",
   "execution_count": null,
   "metadata": {},
   "outputs": [],
   "source": [
    "df1['Combine'] = df1['Nationality'].apply(lambda v: v[:4])\n",
    "df3 = df1.groupby('Combine')['Requests received (excluding duplicates)'].sum().to_frame()\n",
    "df3"
   ]
  },
  {
   "cell_type": "code",
   "execution_count": null,
   "metadata": {},
   "outputs": [],
   "source": [
    "df2['Combine'] =df2['Country'].apply(lambda v: v[:4])\n",
    "df4 = df2.groupby('Combine')['Individuals traveled'].sum().to_frame()\n",
    "df4"
   ]
  },
  {
   "cell_type": "code",
   "execution_count": null,
   "metadata": {},
   "outputs": [],
   "source": [
    "df5 = pd.concat([df3, df4], axis=1, join='outer')\n",
    "df5.iloc[28:66,]"
   ]
  },
  {
   "cell_type": "code",
   "execution_count": 22,
   "metadata": {
    "collapsed": true
   },
   "outputs": [],
   "source": [
    "df5.to_csv('/Users/suda77/Desktop/Travel_Request_and_Complete.csv', index=True, index_label='Country')\n",
    "#match-up 4-letter abreviation to full country name uinsg excel vlookup"
   ]
  },
  {
   "cell_type": "code",
   "execution_count": 27,
   "metadata": {},
   "outputs": [],
   "source": [
    "df6 = pd.read_csv('/Users/suda77/Desktop/Travel_Request_and_Complete.csv')\n",
    "df6['latitude'] = df6['Country'].apply(lambda v: geolocator.geocode(v).latitude)\n",
    "df6['longitude'] = df6['Country'].apply(lambda v: geolocator.geocode(v).longitude)"
   ]
  },
  {
   "cell_type": "code",
   "execution_count": null,
   "metadata": {},
   "outputs": [],
   "source": [
    "df6.info()\n",
    "df6 = df6.fillna(0)\n",
    "df6.loc[:,'Requests received'] = df6.loc[:,'Requests received'].astype(int)\n",
    "df6.loc[:,'Individuals traveled'] = df6.loc[:,'Individuals traveled'].astype(int)\n",
    "df6.to_csv('/Users/suda77/Desktop/Travel_Request_and_Complete2.csv', index=False)"
   ]
  },
  {
   "cell_type": "code",
   "execution_count": null,
   "metadata": {},
   "outputs": [],
   "source": []
  },
  {
   "cell_type": "code",
   "execution_count": null,
   "metadata": {},
   "outputs": [],
   "source": []
  },
  {
   "cell_type": "code",
   "execution_count": null,
   "metadata": {
    "collapsed": true
   },
   "outputs": [],
   "source": []
  }
 ],
 "metadata": {
  "kernelspec": {
   "display_name": "Python 3",
   "language": "python",
   "name": "python3"
  },
  "language_info": {
   "codemirror_mode": {
    "name": "ipython",
    "version": 3
   },
   "file_extension": ".py",
   "mimetype": "text/x-python",
   "name": "python",
   "nbconvert_exporter": "python",
   "pygments_lexer": "ipython3",
   "version": "3.6.4"
  }
 },
 "nbformat": 4,
 "nbformat_minor": 2
}
